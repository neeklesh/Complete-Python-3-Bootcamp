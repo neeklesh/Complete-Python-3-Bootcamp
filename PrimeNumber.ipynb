{
  "nbformat": 4,
  "nbformat_minor": 0,
  "metadata": {
    "colab": {
      "provenance": [],
      "authorship_tag": "ABX9TyMVPuMDteKnq3ZkEaH4RaxL",
      "include_colab_link": true
    },
    "kernelspec": {
      "name": "python3",
      "display_name": "Python 3"
    },
    "language_info": {
      "name": "python"
    }
  },
  "cells": [
    {
      "cell_type": "markdown",
      "metadata": {
        "id": "view-in-github",
        "colab_type": "text"
      },
      "source": [
        "<a href=\"https://colab.research.google.com/github/neeklesh/Complete-Python-3-Bootcamp/blob/master/PrimeNumber.ipynb\" target=\"_parent\"><img src=\"https://colab.research.google.com/assets/colab-badge.svg\" alt=\"Open In Colab\"/></a>"
      ]
    },
    {
      "cell_type": "code",
      "execution_count": null,
      "metadata": {
        "id": "kJ4lc_v571Ez"
      },
      "outputs": [],
      "source": [
        "#take input from the user to determine if prime or not\n",
        "num = int(input('Please enter a num:'))\n",
        "if num == 1 or num == 0: #if the num is 1 or 0 we directly declare it is nor a prime number\n",
        "  print(num,'Is not a prime number')\n",
        "for i in range(2, int(num/2)+1): #now we declare i and its range from 2 to the\n",
        "  if (num % i)==0: #declare if so that the number will get divided by i as many times as the we declare the range in for\n",
        "    print(num,\"is not a prime number\") #print num and is not prime if the division is done\n",
        "    break\n",
        "  else:\n",
        "    print(num,\"is a prime number\") #print is prime if division is not success."
      ]
    }
  ]
}