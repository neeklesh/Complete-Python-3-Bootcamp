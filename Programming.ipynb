{
  "nbformat": 4,
  "nbformat_minor": 0,
  "metadata": {
    "colab": {
      "provenance": [],
      "authorship_tag": "ABX9TyOZnSmxkHlQK5LhdbFkUnxJ",
      "include_colab_link": true
    },
    "kernelspec": {
      "name": "python3",
      "display_name": "Python 3"
    },
    "language_info": {
      "name": "python"
    }
  },
  "cells": [
    {
      "cell_type": "markdown",
      "metadata": {
        "id": "view-in-github",
        "colab_type": "text"
      },
      "source": [
        "<a href=\"https://colab.research.google.com/github/neeklesh/Complete-Python-3-Bootcamp/blob/master/Programming.ipynb\" target=\"_parent\"><img src=\"https://colab.research.google.com/assets/colab-badge.svg\" alt=\"Open In Colab\"/></a>"
      ]
    },
    {
      "cell_type": "code",
      "execution_count": null,
      "metadata": {
        "id": "agTDyFgLPUKY"
      },
      "outputs": [],
      "source": [
        "#Program to write a functon that accepts two integrs and adds them\n",
        "def add_two(a,b):\n",
        "  sum = a+b\n",
        "  return(sum)\n"
      ]
    },
    {
      "cell_type": "code",
      "source": [
        "num1 = int(input('enter first number:'))\n",
        "num2 = int(input('enter second number:'))\n",
        "print(\"The sum of two number is:\",add_two(num1,num2))\n"
      ],
      "metadata": {
        "colab": {
          "base_uri": "https://localhost:8080/"
        },
        "id": "nFsV8owXQJps",
        "outputId": "0c432fc4-c2e0-40a6-fd33-40b465128d78"
      },
      "execution_count": null,
      "outputs": [
        {
          "output_type": "stream",
          "name": "stdout",
          "text": [
            "enter first number:3\n",
            "enter second number:5\n",
            "The sum of two number is: 8\n"
          ]
        }
      ]
    },
    {
      "cell_type": "code",
      "source": [
        "#Take length and width of the rectangle and print perimeter\n",
        "def find_perimeter(length, width):\n",
        "\tbreadth = length+width\n",
        "\tperimeter = length+width+breadth\n",
        "\treturn perimeter\n"
      ],
      "metadata": {
        "id": "WPmAeP5VcVGI"
      },
      "execution_count": null,
      "outputs": []
    },
    {
      "cell_type": "code",
      "source": [
        "\tnum1 = int(input('Lenght of the rectangle:'))\n",
        "\tnum2 = int(input('Lenght of the width:'))\n",
        "\tprint('the perimeter of rectangle is:', find_perimeter(num1,num2))"
      ],
      "metadata": {
        "colab": {
          "base_uri": "https://localhost:8080/"
        },
        "id": "aF1zPS0im2zp",
        "outputId": "47ebfc05-dbd1-40c2-98a1-b7f0dd0b8426"
      },
      "execution_count": null,
      "outputs": [
        {
          "output_type": "stream",
          "name": "stdout",
          "text": [
            "Lenght of the rectangle:5\n",
            "Lenght of the width:6\n",
            "the perimeter of rectangle is: 22\n"
          ]
        }
      ]
    },
    {
      "cell_type": "code",
      "source": [
        "def strint_txt(txt):\n",
        "\treturn txt\n",
        "num1 = int(input('Please enter number:'))\n",
        "print('The number is:', strint_txt(num1))"
      ],
      "metadata": {
        "colab": {
          "base_uri": "https://localhost:8080/"
        },
        "id": "AKI4njQGnAms",
        "outputId": "b81db32d-5950-4a36-f294-3baaa7684350"
      },
      "execution_count": null,
      "outputs": [
        {
          "output_type": "stream",
          "name": "stdout",
          "text": [
            "Please enter number:6\n",
            "The number is: 6\n"
          ]
        }
      ]
    },
    {
      "cell_type": "code",
      "source": [
        "#convert minute to seconds\n",
        "def min_Sec_convertor(x):\n",
        "  seconds = x*60\n",
        "  return seconds"
      ],
      "metadata": {
        "id": "Q-abI4F2o9AZ"
      },
      "execution_count": null,
      "outputs": []
    },
    {
      "cell_type": "code",
      "source": [
        "num1 = int(input('Enter minutes please:'))\n",
        "print('The seconds are:', min_Sec_convertor(num1))"
      ],
      "metadata": {
        "colab": {
          "base_uri": "https://localhost:8080/"
        },
        "id": "uEZuxglW4etL",
        "outputId": "186af122-7ada-482d-8658-0f2d5bde621c"
      },
      "execution_count": null,
      "outputs": [
        {
          "output_type": "stream",
          "name": "stdout",
          "text": [
            "Enter minutes please:60\n",
            "The seconds are: 3600\n"
          ]
        }
      ]
    },
    {
      "cell_type": "code",
      "source": [
        "#Program to increement the number\n",
        "def increment_1(num):\n",
        "  X = num +1\n",
        "  return X\n"
      ],
      "metadata": {
        "id": "76Mfz5vA4vav"
      },
      "execution_count": null,
      "outputs": []
    },
    {
      "cell_type": "code",
      "source": [
        "num = int(input('Please enter a number:'))\n",
        "print('Your additional number is:',increment_1(num))"
      ],
      "metadata": {
        "colab": {
          "base_uri": "https://localhost:8080/"
        },
        "id": "rTtB4vi7-Ta0",
        "outputId": "421d3200-001b-4d46-9d5f-51425839881f"
      },
      "execution_count": null,
      "outputs": [
        {
          "output_type": "stream",
          "name": "stdout",
          "text": [
            "Please enter a number:7\n",
            "Your additional number is: 8\n"
          ]
        }
      ]
    },
    {
      "cell_type": "code",
      "source": [
        "#Sum of angels of a Polygoan\n",
        "def total_poygon_angels(s):\n",
        "  angel = (n-2)* 180\n",
        "  return angel"
      ],
      "metadata": {
        "id": "5jv1CCvT-iGB"
      },
      "execution_count": null,
      "outputs": []
    },
    {
      "cell_type": "code",
      "source": [
        "n = int(input('Please enter the number of sides of the polygon:'))\n",
        "print('The total angel of polygon is:', total_poygon_angels(n))"
      ],
      "metadata": {
        "colab": {
          "base_uri": "https://localhost:8080/"
        },
        "id": "ByX2e2XnDQzj",
        "outputId": "a45ecc6b-2087-4003-ab85-8485426b0845"
      },
      "execution_count": null,
      "outputs": [
        {
          "output_type": "stream",
          "name": "stdout",
          "text": [
            "Please enter the number of sides of the polygon:4\n",
            "The total angel of polygon is: 360\n"
          ]
        }
      ]
    },
    {
      "cell_type": "code",
      "source": [
        "#Parity function\n",
        "def parity(num):\n",
        "  #convert the num to string\n",
        "  num_str = str(num)\n",
        "  #calculate the sum of\n",
        "  total_sum = sum(int(d) for d in num_str)\n",
        "  #check if both the num and sum have same parity\n",
        "  return (num % 2 ==0) == (total_sum % 2 == 0)\n"
      ],
      "metadata": {
        "id": "qsCsGIxtDy2w"
      },
      "execution_count": null,
      "outputs": []
    },
    {
      "cell_type": "code",
      "source": [
        "num = int(input('Please enter a number to check parity:'))\n",
        "print('The parity is:',parity(num))"
      ],
      "metadata": {
        "colab": {
          "base_uri": "https://localhost:8080/"
        },
        "id": "nT3sNoN_JOSR",
        "outputId": "bd71f52a-3362-4ce3-d827-0b27d21ab53c"
      },
      "execution_count": null,
      "outputs": [
        {
          "output_type": "stream",
          "name": "stdout",
          "text": [
            "Please enter a number to check parity:10\n",
            "The parity is: False\n"
          ]
        }
      ]
    },
    {
      "cell_type": "code",
      "source": [
        "def get_first_value(number_list):\n",
        "\treturn number_list[0]"
      ],
      "metadata": {
        "id": "_xdhckgeJg_q"
      },
      "execution_count": null,
      "outputs": []
    },
    {
      "cell_type": "code",
      "source": [
        "#next edge of a triangle\n",
        "def next_edge(s1,s2):\n",
        "  edge = s1+s2-1\n",
        "  return edge"
      ],
      "metadata": {
        "id": "naA5zTeVUibd"
      },
      "execution_count": null,
      "outputs": []
    },
    {
      "cell_type": "code",
      "source": [
        "s1 = int(input('first side of a triangle:'))\n",
        "s2 = int(input('first side of a triangle:'))\n",
        "print('The next edge of a traingle is:',next_edge(s1,s2))"
      ],
      "metadata": {
        "colab": {
          "base_uri": "https://localhost:8080/"
        },
        "id": "ItuY2m9ACtUY",
        "outputId": "dd23b0a4-1e18-47fe-b8f5-f7ea98b70f28"
      },
      "execution_count": null,
      "outputs": [
        {
          "output_type": "stream",
          "name": "stdout",
          "text": [
            "first side of a triangle:6\n",
            "first side of a triangle:7\n",
            "The next edge of a traingle is: 12\n"
          ]
        }
      ]
    },
    {
      "cell_type": "code",
      "source": [
        "#taking input as string from user\n",
        "name = input('Please enter your name:')\n",
        "print('Your name is:', name)"
      ],
      "metadata": {
        "colab": {
          "base_uri": "https://localhost:8080/"
        },
        "id": "rZcfZ9ClDF4I",
        "outputId": "42569012-2321-43d3-d7fc-15b8ce572813"
      },
      "execution_count": null,
      "outputs": [
        {
          "output_type": "stream",
          "name": "stdout",
          "text": [
            "Please enter your name:Krishna\n",
            "Your name is: Krishna\n"
          ]
        }
      ]
    },
    {
      "cell_type": "code",
      "source": [
        "#Count the Letters and Digits\n",
        "def count_sent(sent):\n",
        "  Sent = input('Please enter a alphanumeric sentence:')\n",
        "  alpha = 0\n",
        "  for i in Sent:\n",
        "    if(i.isalpha()):\n",
        "      alpha = alpha+1\n",
        "    return{ 'Numbers': len(Sent)-alpha, 'Text': alpha}"
      ],
      "metadata": {
        "id": "_kUvCOFWJ6Lx"
      },
      "execution_count": null,
      "outputs": []
    },
    {
      "cell_type": "code",
      "source": [
        "def count_all(txt):\n",
        "  return {\n",
        "    'LETTERS': sum(1 for x in txt if x.isalpha()),\n",
        "    'DIGITS': sum(1 for x in txt if x.isnumeric()),\n",
        "  }\n",
        "\n",
        "\n"
      ],
      "metadata": {
        "id": "PlvYsP3SLy7v"
      },
      "execution_count": null,
      "outputs": []
    },
    {
      "cell_type": "code",
      "source": [
        "count_all('Hello123')"
      ],
      "metadata": {
        "colab": {
          "base_uri": "https://localhost:8080/"
        },
        "id": "ib_VUPwbOjUa",
        "outputId": "b874aeda-14c0-4858-ef30-387c6b57d452"
      },
      "execution_count": null,
      "outputs": [
        {
          "output_type": "execute_result",
          "data": {
            "text/plain": [
              "{'LETTERS': 5, 'DIGITS': 3}"
            ]
          },
          "metadata": {},
          "execution_count": 33
        }
      ]
    },
    {
      "cell_type": "code",
      "source": [
        "count_sent('Hello')"
      ],
      "metadata": {
        "colab": {
          "base_uri": "https://localhost:8080/"
        },
        "id": "yjK3oIEITSKU",
        "outputId": "d15012fa-a915-4245-a18c-7861e83adf47"
      },
      "execution_count": null,
      "outputs": [
        {
          "name": "stdout",
          "output_type": "stream",
          "text": [
            "Please enter a alphanumeric sentence:hello123\n"
          ]
        },
        {
          "output_type": "execute_result",
          "data": {
            "text/plain": [
              "{'Numbers': 7, 'Text': 1}"
            ]
          },
          "metadata": {},
          "execution_count": 40
        }
      ]
    },
    {
      "cell_type": "code",
      "source": [
        "#convert age to days\n",
        "def days_convertor(age):\n",
        "  age = int(input('Please enter your age:'))\n",
        "  return {'Days': age * 365}"
      ],
      "metadata": {
        "id": "ZxLsWVgxT9kt"
      },
      "execution_count": null,
      "outputs": []
    },
    {
      "cell_type": "code",
      "source": [
        "days_convertor('Days')"
      ],
      "metadata": {
        "colab": {
          "base_uri": "https://localhost:8080/"
        },
        "id": "AYrh2iG-XT6e",
        "outputId": "d699a3cb-b16a-43b7-810a-db754c353c24"
      },
      "execution_count": null,
      "outputs": [
        {
          "name": "stdout",
          "output_type": "stream",
          "text": [
            "Please enter your age:5\n"
          ]
        },
        {
          "output_type": "execute_result",
          "data": {
            "text/plain": [
              "{'Days': 1825}"
            ]
          },
          "metadata": {},
          "execution_count": 53
        }
      ]
    },
    {
      "cell_type": "code",
      "source": [
        "#Create a function that takes the number of wins, draws and losses and calculates the number of points a football team has obtained so far. Wins 3, Draw 1 and loss 0\n",
        "def football_points(wins, draws, losses):\n",
        "  wins = int(input('Please enter your wins:'))\n",
        "  Draws = int(input('Please enter your Draws:'))\n",
        "  loss = int(input('Please enter your losses:'))\n",
        "  points = wins*3+Draws*1+ loss*0\n",
        "  return points"
      ],
      "metadata": {
        "id": "vYwEXx0IXnYh"
      },
      "execution_count": null,
      "outputs": []
    },
    {
      "cell_type": "code",
      "source": [
        "football_points(1,1,1)"
      ],
      "metadata": {
        "colab": {
          "base_uri": "https://localhost:8080/"
        },
        "id": "IqNFfHar5J4O",
        "outputId": "09164e65-3ba8-4f66-c675-5ff5381c2d17"
      },
      "execution_count": null,
      "outputs": [
        {
          "name": "stdout",
          "output_type": "stream",
          "text": [
            "Please enter your wins:3\n",
            "Please enter your Draws:2\n",
            "Please enter your losses:1\n"
          ]
        },
        {
          "output_type": "execute_result",
          "data": {
            "text/plain": [
              "11"
            ]
          },
          "metadata": {},
          "execution_count": 3
        }
      ]
    },
    {
      "cell_type": "code",
      "source": [
        "def football_points(wins, draws, loss):\n",
        "  return wins*3+draws"
      ],
      "metadata": {
        "id": "uJK-bI0r5TKk"
      },
      "execution_count": null,
      "outputs": []
    },
    {
      "cell_type": "code",
      "source": [
        "football_points(3,2,1)"
      ],
      "metadata": {
        "colab": {
          "base_uri": "https://localhost:8080/"
        },
        "id": "zW34bUi674tw",
        "outputId": "e7fddde1-58a8-43fe-cf1e-4132f04b6cce"
      },
      "execution_count": null,
      "outputs": [
        {
          "output_type": "execute_result",
          "data": {
            "text/plain": [
              "11"
            ]
          },
          "metadata": {},
          "execution_count": 7
        }
      ]
    },
    {
      "cell_type": "code",
      "source": [
        "#Create a function that takes voltage and current and returns the calculated power.\n",
        "def circuit_power(voltage, current):\n",
        "  return {'Power': voltage*current}"
      ],
      "metadata": {
        "id": "owB3rycS771-"
      },
      "execution_count": null,
      "outputs": []
    },
    {
      "cell_type": "code",
      "source": [
        "circuit_power(20,3)"
      ],
      "metadata": {
        "colab": {
          "base_uri": "https://localhost:8080/"
        },
        "id": "wgbIKyqT-lkg",
        "outputId": "182c95e7-bfeb-4551-db04-bc5fddaa990d"
      },
      "execution_count": null,
      "outputs": [
        {
          "output_type": "execute_result",
          "data": {
            "text/plain": [
              "{'Power': 60}"
            ]
          },
          "metadata": {},
          "execution_count": 11
        }
      ]
    },
    {
      "cell_type": "code",
      "source": [
        "def showdown(p1, p2):\n",
        "  if p1 > p2:\n",
        "    print ('p1 is the winner')\n",
        "  elif p1 < p2:\n",
        "   print ('p2 is the winner')\n",
        "  else:\n",
        "    print('Draw')"
      ],
      "metadata": {
        "id": "4ya1Y_F--tEE"
      },
      "execution_count": null,
      "outputs": []
    },
    {
      "cell_type": "code",
      "source": [
        "showdown(6,7)"
      ],
      "metadata": {
        "colab": {
          "base_uri": "https://localhost:8080/"
        },
        "id": "12FosbDwHtTc",
        "outputId": "ebcaea7d-2204-4980-f3c5-bd3baa3f6e41"
      },
      "execution_count": null,
      "outputs": [
        {
          "output_type": "stream",
          "name": "stdout",
          "text": [
            "p2 is the winner\n"
          ]
        }
      ]
    },
    {
      "cell_type": "code",
      "source": [
        "#odd & even number\n",
        "def odd_evn(num):\n",
        "  if num%2 == 0:\n",
        "    print('Num is even')\n",
        "  else:\n",
        "    print('Num is odd')\n",
        "  return odd_evn"
      ],
      "metadata": {
        "id": "GdwSdpx5JD3w"
      },
      "execution_count": null,
      "outputs": []
    },
    {
      "cell_type": "code",
      "source": [
        "odd_evn(3)"
      ],
      "metadata": {
        "colab": {
          "base_uri": "https://localhost:8080/"
        },
        "id": "HnlsvAuUS_K6",
        "outputId": "660d1280-eb13-461e-f993-840c077d33f1"
      },
      "execution_count": null,
      "outputs": [
        {
          "output_type": "stream",
          "name": "stdout",
          "text": [
            "Num is odd\n"
          ]
        },
        {
          "output_type": "execute_result",
          "data": {
            "text/plain": [
              "<function __main__.odd_evn(num)>"
            ]
          },
          "metadata": {},
          "execution_count": 10
        }
      ]
    },
    {
      "cell_type": "code",
      "source": [
        "#inspecting an element\n",
        "def inspect_e(num):\n",
        "  if num == 0:\n",
        "    print('Num is zero')\n",
        "  elif num == 1:\n",
        "    print('num is 1')\n",
        "  else:\n",
        "    print('num is else')\n",
        "  return inspect_e"
      ],
      "metadata": {
        "id": "aiUlhzSxTaRL"
      },
      "execution_count": null,
      "outputs": []
    },
    {
      "cell_type": "code",
      "source": [
        "inspect_e(8)"
      ],
      "metadata": {
        "colab": {
          "base_uri": "https://localhost:8080/"
        },
        "id": "YS1l-hcJVV88",
        "outputId": "b68a0717-51a6-447d-8582-5fb604a912a3"
      },
      "execution_count": null,
      "outputs": [
        {
          "output_type": "stream",
          "name": "stdout",
          "text": [
            "num is else\n"
          ]
        },
        {
          "output_type": "execute_result",
          "data": {
            "text/plain": [
              "<function __main__.inspect_e(num)>"
            ]
          },
          "metadata": {},
          "execution_count": 13
        }
      ]
    },
    {
      "cell_type": "code",
      "source": [
        "#students present %\n",
        "def attendance(x,y):\n",
        "  x = int(input('Total number of days working days:'))\n",
        "  y = int(input('Total number of days absent'))\n",
        "  z = (1-y/x)*100\n",
        "  if z < 75:\n",
        "    print('Student will not be able to attend exam')\n",
        "    print('His attendance is:', z)\n",
        "  else:\n",
        "    print('Student will attend exam')\n",
        "    print('His attendance is:', z)\n",
        "  return attendance"
      ],
      "metadata": {
        "id": "__ctcQp3VZAh"
      },
      "execution_count": null,
      "outputs": []
    },
    {
      "cell_type": "code",
      "source": [
        "attendance(100,80)"
      ],
      "metadata": {
        "colab": {
          "base_uri": "https://localhost:8080/"
        },
        "id": "tX0yZm9pS_5n",
        "outputId": "1b6ed5d5-9fbe-4352-a0c9-229883e69ced"
      },
      "execution_count": null,
      "outputs": [
        {
          "output_type": "stream",
          "name": "stdout",
          "text": [
            "Total number of days working days:100\n",
            "Total number of days absent80\n",
            "Student will not be able to attend exam\n",
            "His attendance is: 19.999999999999996\n"
          ]
        },
        {
          "output_type": "execute_result",
          "data": {
            "text/plain": [
              "<function __main__.attendance(x, y)>"
            ]
          },
          "metadata": {},
          "execution_count": 8
        }
      ]
    },
    {
      "cell_type": "code",
      "source": [
        "#ask students to enter their % and then tell them their grade.\n",
        "per = int(input('Please enter your percentage:'))\n",
        "if per <=25:\n",
        "  print('Your grade is D')\n",
        "elif per > 25 and per <=45:\n",
        "  print('C grade')\n",
        "elif per >45 and per <=50:\n",
        "  print('B grade')\n",
        "elif per > 50 and per <= 60:\n",
        "  print ('B+')\n",
        "elif per > 60 and per <=75:\n",
        "  print (' A Grade')\n",
        "else:\n",
        "  print ('A+')"
      ],
      "metadata": {
        "colab": {
          "base_uri": "https://localhost:8080/"
        },
        "id": "xu5pKoxnTJUc",
        "outputId": "5c81992b-facc-4250-df1b-33f4e739c97e"
      },
      "execution_count": null,
      "outputs": [
        {
          "output_type": "stream",
          "name": "stdout",
          "text": [
            "Please enter your percentage:80\n",
            "A+\n"
          ]
        }
      ]
    },
    {
      "cell_type": "code",
      "source": [
        "#while statement small program\n",
        "def prg_while():\n",
        "  i = 1\n",
        "  while i < 50:\n",
        "    print (i)\n",
        "    i = i+1\n",
        "prg_while()\n"
      ],
      "metadata": {
        "id": "2J4E6qhZV1LM",
        "colab": {
          "base_uri": "https://localhost:8080/"
        },
        "outputId": "d8873f96-47f4-4a6f-8984-ea3ca1de3b87"
      },
      "execution_count": null,
      "outputs": [
        {
          "output_type": "stream",
          "name": "stdout",
          "text": [
            "1\n",
            "2\n",
            "3\n",
            "4\n",
            "5\n",
            "6\n",
            "7\n",
            "8\n",
            "9\n",
            "10\n",
            "11\n",
            "12\n",
            "13\n",
            "14\n",
            "15\n",
            "16\n",
            "17\n",
            "18\n",
            "19\n",
            "20\n",
            "21\n",
            "22\n",
            "23\n",
            "24\n",
            "25\n",
            "26\n",
            "27\n",
            "28\n",
            "29\n",
            "30\n",
            "31\n",
            "32\n",
            "33\n",
            "34\n",
            "35\n",
            "36\n",
            "37\n",
            "38\n",
            "39\n",
            "40\n",
            "41\n",
            "42\n",
            "43\n",
            "44\n",
            "45\n",
            "46\n",
            "47\n",
            "48\n",
            "49\n"
          ]
        }
      ]
    },
    {
      "cell_type": "code",
      "source": [
        "#working with files\n",
        "file = open('testfile.txt','w')"
      ],
      "metadata": {
        "id": "xToBTCZCRcFW"
      },
      "execution_count": null,
      "outputs": []
    },
    {
      "cell_type": "code",
      "source": [
        "file.write('Introduction\n",
        "\n",
        "In today's digital landscape, content is king. Content marketing has evolved into a vital strategy for businesses to connect with their target audience, build brand authority, and drive conversions. To succeed in this competitive arena, you need to understand and implement effective content marketing techniques. In this comprehensive guide, we'll explore a range of techniques that can help you create, distribute, and optimize your content for maximum impact.\n",
        "\n",
        "Audience Research and Persona Development\n",
        "The foundation of successful content marketing is understanding your target audience. Conduct thorough research to identify their demographics, interests, pain points, and preferences. Create buyer personas to represent your ideal customers. This insight will inform your content strategy and ensure that you create content that resonates with your audience.\n",
        "\n",
        "Content Planning and Strategy\n",
        "Develop a clear content marketing strategy that aligns with your business goals. Consider the type of content (blog posts, videos, infographics, etc.), content calendar, and distribution channels (website, social media, email) you will use. Your strategy should address your audience's needs and provide valuable solutions.\n",
        "\n",
        "High-Quality Content Creation\n",
        "Creating valuable and engaging content is paramount. Invest time and resources into producing well-researched, informative, and entertaining content. Use storytelling techniques to connect with your audience emotionally and make your content memorable. Incorporate visual elements like images and videos to enhance the user experience.\n",
        "\n",
        "SEO Optimization\n",
        "Search engine optimization (SEO) is crucial for content discoverability. Conduct keyword research to identify relevant keywords and phrases for your industry. Optimize your content with these keywords to improve its search engine ranking. Focus on creating content that not only ranks well but also provides value to your audience.\n",
        "\n",
        "Content Distribution\n",
        "Promoting your content is as important as creating it. Utilize various distribution channels such as social media, email marketing, and guest posting to reach a wider audience. Share your content consistently and engage with your audience to foster a sense of community.\n",
        "\n",
        "Email Marketing\n",
        "Email marketing is a powerful tool for nurturing leads and building relationships with your audience. Send personalized, relevant content to your subscribers. Use email automation to deliver the right content at the right time, based on your subscribers' behavior and preferences.\n",
        "\n",
        "Influencer Marketing\n",
        "Collaborating with influencers in your niche can help you tap into their established audiences. Identify influencers whose values align with your brand and work together on content partnerships or sponsored posts. Their endorsement can boost your credibility and reach.\n",
        "\n",
        "Analytics and Measurement\n",
        "Regularly monitor the performance of your content marketing efforts. Use tools like Google Analytics to track key metrics such as website traffic, engagement, conversion rates, and ROI. Analyze the data to refine your strategy and make data-driven decisions.\n",
        "\n",
        "Content Repurposing\n",
        "Don't let your valuable content go to waste. Repurpose your existing content into different formats (e.g., turning a blog post into a podcast or video). This extends the life of your content and allows you to reach different segments of your audience.\n",
        "\n",
        "A/B Testing and Optimization\n",
        "Continuously improve your content marketing techniques by conducting A/B tests. Experiment with different headlines, visuals, CTAs, and content formats to determine what resonates best with your audience. Optimization is an ongoing process that ensures long-term success.\n",
        "\n",
        "Conclusion\n",
        "\n",
        "Content marketing is a dynamic field that requires constant adaptation to changing trends and consumer preferences. By implementing these content marketing techniques, you'll be better equipped to connect with your target audience, build brand authority, and drive business growth. Remember that consistency, creativity, and a commitment to delivering value should be at the core of your content marketing strategy. Keep learning, experimenting, and refining your approach to stay ahead in the ever-evolving world of content marketing.')"
      ],
      "metadata": {
        "colab": {
          "base_uri": "https://localhost:8080/",
          "height": 140
        },
        "id": "jgy_9Kw2EYQ5",
        "outputId": "4835afc3-5300-492c-efcd-1f19094bb26d"
      },
      "execution_count": null,
      "outputs": [
        {
          "output_type": "error",
          "ename": "SyntaxError",
          "evalue": "ignored",
          "traceback": [
            "\u001b[0;36m  File \u001b[0;32m\"<ipython-input-4-356751bc4730>\"\u001b[0;36m, line \u001b[0;32m1\u001b[0m\n\u001b[0;31m    file.write('Introduction\u001b[0m\n\u001b[0m               ^\u001b[0m\n\u001b[0;31mSyntaxError\u001b[0m\u001b[0;31m:\u001b[0m unterminated string literal (detected at line 1)\n"
          ]
        }
      ]
    },
    {
      "cell_type": "code",
      "source": [
        "file.write(\"In today's digital landscape, content is king. Content marketing has evolved into a vital strategy for businesses to connect with their target audience, build brand authority, and drive conversions. To succeed in this competitive arena, you need to understand and implement effective content marketing techniques. In this comprehensive guide, we'll explore a range of techniques that can help you create, distribute, and optimize your content for maximum impact\")"
      ],
      "metadata": {
        "colab": {
          "base_uri": "https://localhost:8080/"
        },
        "id": "N-d00OymGxkD",
        "outputId": "7273422a-af01-4492-c573-d3fb02fc3dec"
      },
      "execution_count": null,
      "outputs": [
        {
          "output_type": "execute_result",
          "data": {
            "text/plain": [
              "461"
            ]
          },
          "metadata": {},
          "execution_count": 5
        }
      ]
    },
    {
      "cell_type": "code",
      "source": [
        "file.close()"
      ],
      "metadata": {
        "id": "Rj8usHDeG_Zr"
      },
      "execution_count": null,
      "outputs": []
    },
    {
      "cell_type": "code",
      "source": [
        "file = open('testfile.txt','r')"
      ],
      "metadata": {
        "id": "TFVuDidVHGcE"
      },
      "execution_count": null,
      "outputs": []
    },
    {
      "cell_type": "code",
      "source": [
        "print(file.read())"
      ],
      "metadata": {
        "colab": {
          "base_uri": "https://localhost:8080/"
        },
        "id": "iH23SVsAHX-l",
        "outputId": "b7b62d84-e978-4127-d29d-eebe48c730bc"
      },
      "execution_count": null,
      "outputs": [
        {
          "output_type": "stream",
          "name": "stdout",
          "text": [
            "In today's digital landscape, content is king. Content marketing has evolved into a vital strategy for businesses to connect with their target audience, build brand authority, and drive conversions. To succeed in this competitive arena, you need to understand and implement effective content marketing techniques. In this comprehensive guide, we'll explore a range of techniques that can help you create, distribute, and optimize your content for maximum impact\n"
          ]
        }
      ]
    },
    {
      "cell_type": "code",
      "source": [
        "#program to print first 10 even numbers\n",
        "maximum = 10\n",
        "for n in range (1, maximum +1):\n",
        "  if n % 2 == 0:\n",
        "    print (n)\n",
        "\n"
      ],
      "metadata": {
        "id": "XH-I3XXRHgIa",
        "colab": {
          "base_uri": "https://localhost:8080/"
        },
        "outputId": "9675860f-26f2-46e4-92b7-259bedcbd832"
      },
      "execution_count": null,
      "outputs": [
        {
          "output_type": "stream",
          "name": "stdout",
          "text": [
            "2\n",
            "4\n",
            "6\n",
            "8\n",
            "10\n"
          ]
        }
      ]
    },
    {
      "cell_type": "code",
      "source": [
        "for i in range(20):\n",
        "  if i % 2 ==0:\n",
        "    print (i)"
      ],
      "metadata": {
        "id": "KIDjk9wJpby2",
        "colab": {
          "base_uri": "https://localhost:8080/"
        },
        "outputId": "1878a3c2-dfa0-42f4-c0e1-18e9157193f5"
      },
      "execution_count": null,
      "outputs": [
        {
          "output_type": "stream",
          "name": "stdout",
          "text": [
            "0\n",
            "2\n",
            "4\n",
            "6\n",
            "8\n",
            "10\n",
            "12\n",
            "14\n",
            "16\n",
            "18\n"
          ]
        }
      ]
    },
    {
      "cell_type": "code",
      "source": [
        "maximum = 20\n",
        "for num in range(1, maximum +1):\n",
        "  if num % 2 == 0:\n",
        "    print(num)"
      ],
      "metadata": {
        "colab": {
          "base_uri": "https://localhost:8080/"
        },
        "id": "ANB5IXux5YuS",
        "outputId": "15c90936-88b5-43a6-bdf5-ce1f72b37527"
      },
      "execution_count": null,
      "outputs": [
        {
          "output_type": "stream",
          "name": "stdout",
          "text": [
            "2\n",
            "4\n",
            "6\n",
            "8\n",
            "10\n",
            "12\n",
            "14\n",
            "16\n",
            "18\n",
            "20\n"
          ]
        }
      ]
    },
    {
      "cell_type": "code",
      "source": [
        "maxium = 20\n",
        "for num in range(1, maximum +1):\n",
        "  if num%2 != 0:\n",
        "    print (num)"
      ],
      "metadata": {
        "colab": {
          "base_uri": "https://localhost:8080/"
        },
        "id": "O5qB9Hmp_NnQ",
        "outputId": "ac852694-dc42-463b-8645-0e32e1ac8967"
      },
      "execution_count": null,
      "outputs": [
        {
          "output_type": "stream",
          "name": "stdout",
          "text": [
            "1\n",
            "3\n",
            "5\n",
            "7\n",
            "9\n",
            "11\n",
            "13\n",
            "15\n",
            "17\n",
            "19\n"
          ]
        }
      ]
    },
    {
      "cell_type": "code",
      "source": [
        "x = 10\n",
        "num = 1\n",
        "while num <= x:\n",
        " if num % 2== 0:\n",
        "    print (num)\n",
        "num = num +1"
      ],
      "metadata": {
        "id": "3y-FRdFA_oSA",
        "colab": {
          "base_uri": "https://localhost:8080/",
          "height": 245
        },
        "outputId": "a677a923-5410-4ece-e65f-b1e09b9cdb75"
      },
      "execution_count": null,
      "outputs": [
        {
          "output_type": "error",
          "ename": "KeyboardInterrupt",
          "evalue": "ignored",
          "traceback": [
            "\u001b[0;31m---------------------------------------------------------------------------\u001b[0m",
            "\u001b[0;31mKeyboardInterrupt\u001b[0m                         Traceback (most recent call last)",
            "\u001b[0;32m<ipython-input-3-7e3597599aae>\u001b[0m in \u001b[0;36m<cell line: 3>\u001b[0;34m()\u001b[0m\n\u001b[1;32m      2\u001b[0m \u001b[0mnum\u001b[0m \u001b[0;34m=\u001b[0m \u001b[0;36m1\u001b[0m\u001b[0;34m\u001b[0m\u001b[0;34m\u001b[0m\u001b[0m\n\u001b[1;32m      3\u001b[0m \u001b[0;32mwhile\u001b[0m \u001b[0mnum\u001b[0m \u001b[0;34m<=\u001b[0m \u001b[0mx\u001b[0m\u001b[0;34m:\u001b[0m\u001b[0;34m\u001b[0m\u001b[0;34m\u001b[0m\u001b[0m\n\u001b[0;32m----> 4\u001b[0;31m  \u001b[0;32mif\u001b[0m \u001b[0mnum\u001b[0m \u001b[0;34m%\u001b[0m \u001b[0;36m2\u001b[0m\u001b[0;34m==\u001b[0m \u001b[0;36m0\u001b[0m\u001b[0;34m:\u001b[0m\u001b[0;34m\u001b[0m\u001b[0;34m\u001b[0m\u001b[0m\n\u001b[0m\u001b[1;32m      5\u001b[0m     \u001b[0mprint\u001b[0m \u001b[0;34m(\u001b[0m\u001b[0mnum\u001b[0m\u001b[0;34m)\u001b[0m\u001b[0;34m\u001b[0m\u001b[0;34m\u001b[0m\u001b[0m\n\u001b[1;32m      6\u001b[0m \u001b[0mnum\u001b[0m \u001b[0;34m=\u001b[0m \u001b[0mnum\u001b[0m \u001b[0;34m+\u001b[0m\u001b[0;36m1\u001b[0m\u001b[0;34m\u001b[0m\u001b[0;34m\u001b[0m\u001b[0m\n",
            "\u001b[0;31mKeyboardInterrupt\u001b[0m: "
          ]
        }
      ]
    },
    {
      "cell_type": "code",
      "source": [
        "x = int(input('Please enter a number:'))\n",
        "i = 1\n",
        "while i < x:\n",
        "  if i % 2 == 0:\n",
        "    print(i)\n",
        "  i = i+1"
      ],
      "metadata": {
        "id": "yCFKlG4LANDP",
        "colab": {
          "base_uri": "https://localhost:8080/"
        },
        "outputId": "3fb14853-206a-4a1c-e6f2-a321a2108015"
      },
      "execution_count": null,
      "outputs": [
        {
          "output_type": "stream",
          "name": "stdout",
          "text": [
            "Please enter a number:10\n",
            "2\n",
            "4\n",
            "6\n",
            "8\n"
          ]
        }
      ]
    },
    {
      "cell_type": "code",
      "source": [
        "num = 2\n",
        "while num <= 20:\n",
        "  print(num)\n",
        "  num = num + 2"
      ],
      "metadata": {
        "colab": {
          "base_uri": "https://localhost:8080/"
        },
        "id": "Sh7QQvvoKTLZ",
        "outputId": "9c4174de-f2c5-4485-ff71-eb3045c01f36"
      },
      "execution_count": null,
      "outputs": [
        {
          "output_type": "stream",
          "name": "stdout",
          "text": [
            "2\n",
            "4\n",
            "6\n",
            "8\n",
            "10\n",
            "12\n",
            "14\n",
            "16\n",
            "18\n",
            "20\n"
          ]
        }
      ]
    },
    {
      "cell_type": "code",
      "source": [
        "a = 1\n",
        "c = 10\n",
        "while a <= c:\n",
        "  b = a*a\n",
        "  print(a, b)\n",
        "  a = a+1"
      ],
      "metadata": {
        "id": "oMaMzrKgLWNX",
        "colab": {
          "base_uri": "https://localhost:8080/"
        },
        "outputId": "69cd6834-6d1e-4d0a-b647-36fba6e85218"
      },
      "execution_count": null,
      "outputs": [
        {
          "output_type": "stream",
          "name": "stdout",
          "text": [
            "1 1\n",
            "2 4\n",
            "3 9\n",
            "4 16\n",
            "5 25\n",
            "6 36\n",
            "7 49\n",
            "8 64\n",
            "9 81\n",
            "10 100\n"
          ]
        }
      ]
    },
    {
      "cell_type": "code",
      "source": [
        "a = 10\n",
        "while a <= 300:\n",
        "  print (a, end = \" \")\n",
        "  a = a+10"
      ],
      "metadata": {
        "colab": {
          "base_uri": "https://localhost:8080/"
        },
        "id": "jrPpyex7l3Xq",
        "outputId": "4603626c-2bdf-4e9d-eca4-0ccf2aa4cca0"
      },
      "execution_count": null,
      "outputs": [
        {
          "output_type": "stream",
          "name": "stdout",
          "text": [
            "10 20 30 40 50 60 70 80 90 100 110 120 130 140 150 160 170 180 190 200 210 220 230 240 250 260 270 280 290 300 "
          ]
        }
      ]
    },
    {
      "cell_type": "code",
      "source": [
        "x = 'My Name is neeklesh'\n",
        "x"
      ],
      "metadata": {
        "id": "Q-UeX-uApscQ",
        "colab": {
          "base_uri": "https://localhost:8080/",
          "height": 36
        },
        "outputId": "45514ac9-6283-4f6e-fd06-f614ddc2c016"
      },
      "execution_count": null,
      "outputs": [
        {
          "output_type": "execute_result",
          "data": {
            "text/plain": [
              "'My Name is neeklesh'"
            ],
            "application/vnd.google.colaboratory.intrinsic+json": {
              "type": "string"
            }
          },
          "metadata": {},
          "execution_count": 11
        }
      ]
    },
    {
      "cell_type": "code",
      "source": [
        "y = x.isalpha()\n",
        "print(y)"
      ],
      "metadata": {
        "colab": {
          "base_uri": "https://localhost:8080/"
        },
        "id": "Wy7f3sY9g3DH",
        "outputId": "abe34dea-bfa5-46d3-bc81-d6dbb3f7e4bd"
      },
      "execution_count": null,
      "outputs": [
        {
          "output_type": "stream",
          "name": "stdout",
          "text": [
            "False\n"
          ]
        }
      ]
    },
    {
      "cell_type": "code",
      "source": [
        "print (x[3:7])"
      ],
      "metadata": {
        "colab": {
          "base_uri": "https://localhost:8080/"
        },
        "id": "ApJSQ4AYhEFe",
        "outputId": "df8561b9-881d-4692-dc0c-05934b0533f5"
      },
      "execution_count": null,
      "outputs": [
        {
          "output_type": "stream",
          "name": "stdout",
          "text": [
            "Name\n"
          ]
        }
      ]
    },
    {
      "cell_type": "code",
      "source": [
        "z = x[3:7]\n",
        "y = z.isalpha()\n",
        "print(y)"
      ],
      "metadata": {
        "colab": {
          "base_uri": "https://localhost:8080/"
        },
        "id": "dWznySxfi3io",
        "outputId": "2624725d-1616-42d2-ae12-7bea0cb1db24"
      },
      "execution_count": null,
      "outputs": [
        {
          "output_type": "stream",
          "name": "stdout",
          "text": [
            "True\n"
          ]
        }
      ]
    },
    {
      "cell_type": "code",
      "source": [
        "#sum of 10 natural numbers\n",
        "i = int(input('Please enter a number'))\n",
        "maximum = 10\n",
        "while i <= maximum:\n",
        "  y = i+1\n",
        "  i = i+y\n",
        "  print (i)"
      ],
      "metadata": {
        "colab": {
          "base_uri": "https://localhost:8080/"
        },
        "id": "Hfu0OKsNkRyB",
        "outputId": "4ed852ca-a22c-4369-dad8-3f6b6c567caf"
      },
      "execution_count": null,
      "outputs": [
        {
          "output_type": "stream",
          "name": "stdout",
          "text": [
            "Please enter a number5\n",
            "11\n"
          ]
        }
      ]
    },
    {
      "cell_type": "code",
      "source": [
        "x = 1\n",
        "s = 0\n",
        "while x <=10:\n",
        "  s= x+s\n",
        "  x= 1+x\n",
        "  print(x, s)"
      ],
      "metadata": {
        "colab": {
          "base_uri": "https://localhost:8080/"
        },
        "id": "ErqGruh3nfz0",
        "outputId": "7f80f301-56d3-4c2b-ed9b-783a2bcfa572"
      },
      "execution_count": null,
      "outputs": [
        {
          "output_type": "stream",
          "name": "stdout",
          "text": [
            "2 1\n",
            "3 3\n",
            "4 6\n",
            "5 10\n",
            "6 15\n",
            "7 21\n",
            "8 28\n",
            "9 36\n",
            "10 45\n",
            "11 55\n"
          ]
        }
      ]
    },
    {
      "cell_type": "code",
      "source": [
        "#print table of a number entered by user\n",
        "#logic user will enter a number\n",
        "#number must be multiplied with numbers from 1 to 10 and printed\n",
        "num = int(input('Please enter a number:'))\n",
        "x = 1\n",
        "while x <= 10:\n",
        "  y = num * x\n",
        "  print(num,\"*\",x,\"=\", y)\n",
        "  x=x+1"
      ],
      "metadata": {
        "colab": {
          "base_uri": "https://localhost:8080/"
        },
        "id": "H2BCUkBTqOLt",
        "outputId": "e626b03e-5d30-4b34-faef-19ea8c62bfed"
      },
      "execution_count": null,
      "outputs": [
        {
          "output_type": "stream",
          "name": "stdout",
          "text": [
            "Please enter a number:5\n",
            "5 * 1 = 5\n",
            "5 * 2 = 10\n",
            "5 * 3 = 15\n",
            "5 * 4 = 20\n",
            "5 * 5 = 25\n",
            "5 * 6 = 30\n",
            "5 * 7 = 35\n",
            "5 * 8 = 40\n",
            "5 * 9 = 45\n",
            "5 * 10 = 50\n"
          ]
        }
      ]
    },
    {
      "cell_type": "code",
      "source": [
        "#Program to print all the number between two number entered by user\n",
        "#user will enter num1 and num2\n",
        "#increase num1 by 1 and keep increasing until it is equal to num2\n",
        "#once equal to num2 stop\n",
        "num1 = int(input('Please enter number 1:'))\n",
        "num2 = int(input('Please enter number 2:'))\n",
        "while num1 < num2:\n",
        "  num1 = num1 + 1\n",
        "  print(num1)\n"
      ],
      "metadata": {
        "colab": {
          "base_uri": "https://localhost:8080/"
        },
        "id": "FGMBGkP06UcW",
        "outputId": "fc1e2b9e-160d-408f-f951-d67c5383adfe"
      },
      "execution_count": null,
      "outputs": [
        {
          "output_type": "stream",
          "name": "stdout",
          "text": [
            "Please enter number 1:6\n",
            "Please enter number 2:66\n",
            "7\n",
            "8\n",
            "9\n",
            "10\n",
            "11\n",
            "12\n",
            "13\n",
            "14\n",
            "15\n",
            "16\n",
            "17\n",
            "18\n",
            "19\n",
            "20\n",
            "21\n",
            "22\n",
            "23\n",
            "24\n",
            "25\n",
            "26\n",
            "27\n",
            "28\n",
            "29\n",
            "30\n",
            "31\n",
            "32\n",
            "33\n",
            "34\n",
            "35\n",
            "36\n",
            "37\n",
            "38\n",
            "39\n",
            "40\n",
            "41\n",
            "42\n",
            "43\n",
            "44\n",
            "45\n",
            "46\n",
            "47\n",
            "48\n",
            "49\n",
            "50\n",
            "51\n",
            "52\n",
            "53\n",
            "54\n",
            "55\n",
            "56\n",
            "57\n",
            "58\n",
            "59\n",
            "60\n",
            "61\n",
            "62\n",
            "63\n",
            "64\n",
            "65\n",
            "66\n"
          ]
        }
      ]
    },
    {
      "cell_type": "code",
      "source": [
        "#program to print number is prime or not\n",
        "#a number which gets divided by only itself and not with others\n",
        "num1 = int(input('Please enter number 1:'))\n",
        "k = 0\n",
        "if num1 ==0 or num1 == 1:\n",
        "  print('Num1 is not a prime number')\n",
        "else:\n",
        "  i =2\n",
        "  while (i < num1):\n",
        "    if num1 % i == 0:\n",
        "      k = k+1\n",
        "    i = i+1\n",
        "  if k == 0:\n",
        "    print(num1, \"Prime number\")\n",
        "  else:\n",
        "    print(num1, \"is not a prime number\")\n"
      ],
      "metadata": {
        "colab": {
          "base_uri": "https://localhost:8080/"
        },
        "id": "jm7D08hb9_25",
        "outputId": "101c311e-10ff-41d3-ddaf-4804bf1e1efa"
      },
      "execution_count": null,
      "outputs": [
        {
          "output_type": "stream",
          "name": "stdout",
          "text": [
            "Please enter number 1:5\n",
            "5 Prime number\n"
          ]
        }
      ]
    },
    {
      "cell_type": "code",
      "source": [
        "num = int(input('Please enter a num:'))\n",
        "if num == 1 or num == 0:\n",
        "  print(num,'Is not a prime number')\n",
        "for i in range(2, int(num/2)+1):\n",
        "  if (num % i)==0:\n",
        "    print(num,\"is not a prime number\")\n",
        "    break\n",
        "  else:\n",
        "    print(num,\"is a prime number\")"
      ],
      "metadata": {
        "colab": {
          "base_uri": "https://localhost:8080/"
        },
        "id": "2zXl0588RMPm",
        "outputId": "b03fef86-9d2d-4cc8-dcbc-1aa2d46ae828"
      },
      "execution_count": 10,
      "outputs": [
        {
          "output_type": "stream",
          "name": "stdout",
          "text": [
            "Please enter a num:10\n",
            "10 is not a prime number\n"
          ]
        }
      ]
    },
    {
      "cell_type": "code",
      "source": [],
      "metadata": {
        "id": "fUz1hP9EatPK"
      },
      "execution_count": 10,
      "outputs": []
    }
  ]
}