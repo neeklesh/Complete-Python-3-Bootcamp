{
  "nbformat": 4,
  "nbformat_minor": 0,
  "metadata": {
    "colab": {
      "provenance": [],
      "authorship_tag": "ABX9TyM3NUA/GrsaD2Mi3uosovtV",
      "include_colab_link": true
    },
    "kernelspec": {
      "name": "python3",
      "display_name": "Python 3"
    },
    "language_info": {
      "name": "python"
    }
  },
  "cells": [
    {
      "cell_type": "markdown",
      "metadata": {
        "id": "view-in-github",
        "colab_type": "text"
      },
      "source": [
        "<a href=\"https://colab.research.google.com/github/neeklesh/Complete-Python-3-Bootcamp/blob/master/Programming.ipynb\" target=\"_parent\"><img src=\"https://colab.research.google.com/assets/colab-badge.svg\" alt=\"Open In Colab\"/></a>"
      ]
    },
    {
      "cell_type": "code",
      "execution_count": null,
      "metadata": {
        "id": "agTDyFgLPUKY"
      },
      "outputs": [],
      "source": [
        "#Program to write a functon that accepts two integrs and adds them\n",
        "def add_two(a,b):\n",
        "  sum = a+b\n",
        "  return(sum)\n"
      ]
    },
    {
      "cell_type": "code",
      "source": [
        "num1 = int(input('enter first number:'))\n",
        "num2 = int(input('enter second number:'))\n",
        "print(\"The sum of two number is:\",add_two(num1,num2))\n"
      ],
      "metadata": {
        "colab": {
          "base_uri": "https://localhost:8080/"
        },
        "id": "nFsV8owXQJps",
        "outputId": "0c432fc4-c2e0-40a6-fd33-40b465128d78"
      },
      "execution_count": null,
      "outputs": [
        {
          "output_type": "stream",
          "name": "stdout",
          "text": [
            "enter first number:3\n",
            "enter second number:5\n",
            "The sum of two number is: 8\n"
          ]
        }
      ]
    },
    {
      "cell_type": "code",
      "source": [
        "#Take length and width of the rectangle and print perimeter\n",
        "def find_perimeter(length, width):\n",
        "\tbreadth = length+width\n",
        "\tperimeter = length+width+breadth\n",
        "\treturn perimeter\n"
      ],
      "metadata": {
        "id": "WPmAeP5VcVGI"
      },
      "execution_count": null,
      "outputs": []
    },
    {
      "cell_type": "code",
      "source": [
        "\tnum1 = int(input('Lenght of the rectangle:'))\n",
        "\tnum2 = int(input('Lenght of the width:'))\n",
        "\tprint('the perimeter of rectangle is:', find_perimeter(num1,num2))"
      ],
      "metadata": {
        "colab": {
          "base_uri": "https://localhost:8080/"
        },
        "id": "aF1zPS0im2zp",
        "outputId": "47ebfc05-dbd1-40c2-98a1-b7f0dd0b8426"
      },
      "execution_count": null,
      "outputs": [
        {
          "output_type": "stream",
          "name": "stdout",
          "text": [
            "Lenght of the rectangle:5\n",
            "Lenght of the width:6\n",
            "the perimeter of rectangle is: 22\n"
          ]
        }
      ]
    },
    {
      "cell_type": "code",
      "source": [
        "def strint_txt(txt):\n",
        "\treturn txt\n",
        "num1 = int(input('Please enter number:'))\n",
        "print('The number is:', strint_txt(num1))"
      ],
      "metadata": {
        "colab": {
          "base_uri": "https://localhost:8080/"
        },
        "id": "AKI4njQGnAms",
        "outputId": "b81db32d-5950-4a36-f294-3baaa7684350"
      },
      "execution_count": null,
      "outputs": [
        {
          "output_type": "stream",
          "name": "stdout",
          "text": [
            "Please enter number:6\n",
            "The number is: 6\n"
          ]
        }
      ]
    },
    {
      "cell_type": "code",
      "source": [
        "#convert minute to seconds\n",
        "def min_Sec_convertor(x):\n",
        "  seconds = x*60\n",
        "  return seconds"
      ],
      "metadata": {
        "id": "Q-abI4F2o9AZ"
      },
      "execution_count": null,
      "outputs": []
    },
    {
      "cell_type": "code",
      "source": [
        "num1 = int(input('Enter minutes please:'))\n",
        "print('The seconds are:', min_Sec_convertor(num1))"
      ],
      "metadata": {
        "colab": {
          "base_uri": "https://localhost:8080/"
        },
        "id": "uEZuxglW4etL",
        "outputId": "186af122-7ada-482d-8658-0f2d5bde621c"
      },
      "execution_count": null,
      "outputs": [
        {
          "output_type": "stream",
          "name": "stdout",
          "text": [
            "Enter minutes please:60\n",
            "The seconds are: 3600\n"
          ]
        }
      ]
    },
    {
      "cell_type": "code",
      "source": [
        "#Program to increement the number\n",
        "def increment_1(num):\n",
        "  X = num +1\n",
        "  return X\n"
      ],
      "metadata": {
        "id": "76Mfz5vA4vav"
      },
      "execution_count": null,
      "outputs": []
    },
    {
      "cell_type": "code",
      "source": [
        "num = int(input('Please enter a number:'))\n",
        "print('Your additional number is:',increment_1(num))"
      ],
      "metadata": {
        "colab": {
          "base_uri": "https://localhost:8080/"
        },
        "id": "rTtB4vi7-Ta0",
        "outputId": "421d3200-001b-4d46-9d5f-51425839881f"
      },
      "execution_count": null,
      "outputs": [
        {
          "output_type": "stream",
          "name": "stdout",
          "text": [
            "Please enter a number:7\n",
            "Your additional number is: 8\n"
          ]
        }
      ]
    },
    {
      "cell_type": "code",
      "source": [
        "#Sum of angels of a Polygoan\n",
        "def total_poygon_angels(s):\n",
        "  angel = (n-2)* 180\n",
        "  return angel"
      ],
      "metadata": {
        "id": "5jv1CCvT-iGB"
      },
      "execution_count": null,
      "outputs": []
    },
    {
      "cell_type": "code",
      "source": [
        "n = int(input('Please enter the number of sides of the polygon:'))\n",
        "print('The total angel of polygon is:', total_poygon_angels(n))"
      ],
      "metadata": {
        "colab": {
          "base_uri": "https://localhost:8080/"
        },
        "id": "ByX2e2XnDQzj",
        "outputId": "a45ecc6b-2087-4003-ab85-8485426b0845"
      },
      "execution_count": null,
      "outputs": [
        {
          "output_type": "stream",
          "name": "stdout",
          "text": [
            "Please enter the number of sides of the polygon:4\n",
            "The total angel of polygon is: 360\n"
          ]
        }
      ]
    },
    {
      "cell_type": "code",
      "source": [
        "#Parity function\n",
        "def parity(num):\n",
        "  #convert the num to string\n",
        "  num_str = str(num)\n",
        "  #calculate the sum of\n",
        "  total_sum = sum(int(d) for d in num_str)\n",
        "  #check if both the num and sum have same parity\n",
        "  return (num % 2 ==0) == (total_sum % 2 == 0)\n"
      ],
      "metadata": {
        "id": "qsCsGIxtDy2w"
      },
      "execution_count": null,
      "outputs": []
    },
    {
      "cell_type": "code",
      "source": [
        "num = int(input('Please enter a number to check parity:'))\n",
        "print('The parity is:',parity(num))"
      ],
      "metadata": {
        "colab": {
          "base_uri": "https://localhost:8080/"
        },
        "id": "nT3sNoN_JOSR",
        "outputId": "5e53ade4-e414-4b1d-9e65-5b0738bbd964"
      },
      "execution_count": null,
      "outputs": [
        {
          "output_type": "stream",
          "name": "stdout",
          "text": [
            "Please enter a number to check parity:2\n",
            "The parity is: True\n"
          ]
        }
      ]
    },
    {
      "cell_type": "code",
      "source": [
        "def get_first_value(number_list):\n",
        "\treturn number_list[0]"
      ],
      "metadata": {
        "id": "_xdhckgeJg_q"
      },
      "execution_count": null,
      "outputs": []
    },
    {
      "cell_type": "code",
      "source": [
        "#next edge of a triangle\n",
        "def next_edge(s1,s2):\n",
        "  edge = s1+s2-1\n",
        "  return edge"
      ],
      "metadata": {
        "id": "naA5zTeVUibd"
      },
      "execution_count": null,
      "outputs": []
    },
    {
      "cell_type": "code",
      "source": [
        "s1 = int(input('first side of a triangle:'))\n",
        "s2 = int(input('first side of a triangle:'))\n",
        "print('The next edge of a traingle is:',next_edge(s1,s2))"
      ],
      "metadata": {
        "colab": {
          "base_uri": "https://localhost:8080/"
        },
        "id": "ItuY2m9ACtUY",
        "outputId": "dd23b0a4-1e18-47fe-b8f5-f7ea98b70f28"
      },
      "execution_count": null,
      "outputs": [
        {
          "output_type": "stream",
          "name": "stdout",
          "text": [
            "first side of a triangle:6\n",
            "first side of a triangle:7\n",
            "The next edge of a traingle is: 12\n"
          ]
        }
      ]
    },
    {
      "cell_type": "code",
      "source": [
        "#taking input as string from user\n",
        "name = input('Please enter your name:')\n",
        "print('Your name is:', name)"
      ],
      "metadata": {
        "colab": {
          "base_uri": "https://localhost:8080/"
        },
        "id": "rZcfZ9ClDF4I",
        "outputId": "42569012-2321-43d3-d7fc-15b8ce572813"
      },
      "execution_count": null,
      "outputs": [
        {
          "output_type": "stream",
          "name": "stdout",
          "text": [
            "Please enter your name:Krishna\n",
            "Your name is: Krishna\n"
          ]
        }
      ]
    },
    {
      "cell_type": "code",
      "source": [
        "#Count the Letters and Digits\n",
        "def count_sent(sent):\n",
        "  Sent = input('Please enter a alphanumeric sentence:')\n",
        "  alpha = 0\n",
        "  for i in Sent:\n",
        "    if(i.isalpha()):\n",
        "      alpha = alpha+1\n",
        "    return{ 'Numbers': len(Sent)-alpha, 'Text': alpha}"
      ],
      "metadata": {
        "id": "_kUvCOFWJ6Lx"
      },
      "execution_count": null,
      "outputs": []
    },
    {
      "cell_type": "code",
      "source": [
        "def count_all(txt):\n",
        "  return {\n",
        "    'LETTERS': sum(1 for x in txt if x.isalpha()),\n",
        "    'DIGITS': sum(1 for x in txt if x.isnumeric()),\n",
        "  }\n",
        "\n",
        "\n"
      ],
      "metadata": {
        "id": "PlvYsP3SLy7v"
      },
      "execution_count": null,
      "outputs": []
    },
    {
      "cell_type": "code",
      "source": [
        "count_all('Hello123')"
      ],
      "metadata": {
        "colab": {
          "base_uri": "https://localhost:8080/"
        },
        "id": "ib_VUPwbOjUa",
        "outputId": "b874aeda-14c0-4858-ef30-387c6b57d452"
      },
      "execution_count": null,
      "outputs": [
        {
          "output_type": "execute_result",
          "data": {
            "text/plain": [
              "{'LETTERS': 5, 'DIGITS': 3}"
            ]
          },
          "metadata": {},
          "execution_count": 33
        }
      ]
    },
    {
      "cell_type": "code",
      "source": [
        "count_sent('Hello')"
      ],
      "metadata": {
        "colab": {
          "base_uri": "https://localhost:8080/"
        },
        "id": "yjK3oIEITSKU",
        "outputId": "d15012fa-a915-4245-a18c-7861e83adf47"
      },
      "execution_count": null,
      "outputs": [
        {
          "name": "stdout",
          "output_type": "stream",
          "text": [
            "Please enter a alphanumeric sentence:hello123\n"
          ]
        },
        {
          "output_type": "execute_result",
          "data": {
            "text/plain": [
              "{'Numbers': 7, 'Text': 1}"
            ]
          },
          "metadata": {},
          "execution_count": 40
        }
      ]
    },
    {
      "cell_type": "code",
      "source": [
        "#convert age to days\n",
        "def days_convertor(age):\n",
        "  age = int(input('Please enter your age:'))\n",
        "  return {'Days': age * 365}"
      ],
      "metadata": {
        "id": "ZxLsWVgxT9kt"
      },
      "execution_count": null,
      "outputs": []
    },
    {
      "cell_type": "code",
      "source": [
        "days_convertor('Days')"
      ],
      "metadata": {
        "colab": {
          "base_uri": "https://localhost:8080/"
        },
        "id": "AYrh2iG-XT6e",
        "outputId": "d699a3cb-b16a-43b7-810a-db754c353c24"
      },
      "execution_count": null,
      "outputs": [
        {
          "name": "stdout",
          "output_type": "stream",
          "text": [
            "Please enter your age:5\n"
          ]
        },
        {
          "output_type": "execute_result",
          "data": {
            "text/plain": [
              "{'Days': 1825}"
            ]
          },
          "metadata": {},
          "execution_count": 53
        }
      ]
    },
    {
      "cell_type": "code",
      "source": [
        "#Create a function that takes the number of wins, draws and losses and calculates the number of points a football team has obtained so far. Wins 3, Draw 1 and loss 0\n",
        "def football_points(wins, draws, losses):\n",
        "  wins = int(input('Please enter your wins:'))\n",
        "  Draws = int(input('Please enter your Draws:'))\n",
        "  loss = int(input('Please enter your losses:'))\n",
        "  points = wins*3+Draws*1+ loss*0\n",
        "  return points"
      ],
      "metadata": {
        "id": "vYwEXx0IXnYh"
      },
      "execution_count": null,
      "outputs": []
    },
    {
      "cell_type": "code",
      "source": [
        "football_points(1,1,1)"
      ],
      "metadata": {
        "colab": {
          "base_uri": "https://localhost:8080/"
        },
        "id": "IqNFfHar5J4O",
        "outputId": "09164e65-3ba8-4f66-c675-5ff5381c2d17"
      },
      "execution_count": null,
      "outputs": [
        {
          "name": "stdout",
          "output_type": "stream",
          "text": [
            "Please enter your wins:3\n",
            "Please enter your Draws:2\n",
            "Please enter your losses:1\n"
          ]
        },
        {
          "output_type": "execute_result",
          "data": {
            "text/plain": [
              "11"
            ]
          },
          "metadata": {},
          "execution_count": 3
        }
      ]
    },
    {
      "cell_type": "code",
      "source": [
        "def football_points(wins, draws, loss):\n",
        "  return wins*3+draws"
      ],
      "metadata": {
        "id": "uJK-bI0r5TKk"
      },
      "execution_count": null,
      "outputs": []
    },
    {
      "cell_type": "code",
      "source": [
        "football_points(3,2,1)"
      ],
      "metadata": {
        "colab": {
          "base_uri": "https://localhost:8080/"
        },
        "id": "zW34bUi674tw",
        "outputId": "e7fddde1-58a8-43fe-cf1e-4132f04b6cce"
      },
      "execution_count": null,
      "outputs": [
        {
          "output_type": "execute_result",
          "data": {
            "text/plain": [
              "11"
            ]
          },
          "metadata": {},
          "execution_count": 7
        }
      ]
    },
    {
      "cell_type": "code",
      "source": [
        "#Create a function that takes voltage and current and returns the calculated power.\n",
        "def circuit_power(voltage, current):\n",
        "  return {'Power': voltage*current}"
      ],
      "metadata": {
        "id": "owB3rycS771-"
      },
      "execution_count": null,
      "outputs": []
    },
    {
      "cell_type": "code",
      "source": [
        "circuit_power(20,3)"
      ],
      "metadata": {
        "colab": {
          "base_uri": "https://localhost:8080/"
        },
        "id": "wgbIKyqT-lkg",
        "outputId": "182c95e7-bfeb-4551-db04-bc5fddaa990d"
      },
      "execution_count": null,
      "outputs": [
        {
          "output_type": "execute_result",
          "data": {
            "text/plain": [
              "{'Power': 60}"
            ]
          },
          "metadata": {},
          "execution_count": 11
        }
      ]
    },
    {
      "cell_type": "code",
      "source": [
        "def showdown(p1, p2):\n",
        "  if p1 > p2:\n",
        "    print ('p1 is the winner')\n",
        "  elif p1 < p2:\n",
        "   print ('p2 is the winner')\n",
        "  else:\n",
        "    print('Draw')"
      ],
      "metadata": {
        "id": "4ya1Y_F--tEE"
      },
      "execution_count": null,
      "outputs": []
    },
    {
      "cell_type": "code",
      "source": [
        "showdown(6,7)"
      ],
      "metadata": {
        "colab": {
          "base_uri": "https://localhost:8080/"
        },
        "id": "12FosbDwHtTc",
        "outputId": "ebcaea7d-2204-4980-f3c5-bd3baa3f6e41"
      },
      "execution_count": null,
      "outputs": [
        {
          "output_type": "stream",
          "name": "stdout",
          "text": [
            "p2 is the winner\n"
          ]
        }
      ]
    },
    {
      "cell_type": "code",
      "source": [
        "#odd & even number\n",
        "def odd_evn(num):\n",
        "  if num%2 == 0:\n",
        "    print('Num is even')\n",
        "  else:\n",
        "    print('Num is odd')\n",
        "  return odd_evn"
      ],
      "metadata": {
        "id": "GdwSdpx5JD3w"
      },
      "execution_count": null,
      "outputs": []
    },
    {
      "cell_type": "code",
      "source": [
        "odd_evn(3)"
      ],
      "metadata": {
        "colab": {
          "base_uri": "https://localhost:8080/"
        },
        "id": "HnlsvAuUS_K6",
        "outputId": "660d1280-eb13-461e-f993-840c077d33f1"
      },
      "execution_count": null,
      "outputs": [
        {
          "output_type": "stream",
          "name": "stdout",
          "text": [
            "Num is odd\n"
          ]
        },
        {
          "output_type": "execute_result",
          "data": {
            "text/plain": [
              "<function __main__.odd_evn(num)>"
            ]
          },
          "metadata": {},
          "execution_count": 10
        }
      ]
    },
    {
      "cell_type": "code",
      "source": [
        "#inspecting an element\n",
        "def inspect_e(num):\n",
        "  if num == 0:\n",
        "    print('Num is zero')\n",
        "  elif num == 1:\n",
        "    print('num is 1')\n",
        "  else:\n",
        "    print('num is else')\n",
        "  return inspect_e"
      ],
      "metadata": {
        "id": "aiUlhzSxTaRL"
      },
      "execution_count": null,
      "outputs": []
    },
    {
      "cell_type": "code",
      "source": [
        "inspect_e(8)"
      ],
      "metadata": {
        "colab": {
          "base_uri": "https://localhost:8080/"
        },
        "id": "YS1l-hcJVV88",
        "outputId": "b68a0717-51a6-447d-8582-5fb604a912a3"
      },
      "execution_count": null,
      "outputs": [
        {
          "output_type": "stream",
          "name": "stdout",
          "text": [
            "num is else\n"
          ]
        },
        {
          "output_type": "execute_result",
          "data": {
            "text/plain": [
              "<function __main__.inspect_e(num)>"
            ]
          },
          "metadata": {},
          "execution_count": 13
        }
      ]
    },
    {
      "cell_type": "code",
      "source": [
        "#students present %\n",
        "def attendance(x,y):\n",
        "  x = int(input('Total number of days working days:'))\n",
        "  y = int(input('Total number of days absent'))\n",
        "  z = (1-y/x)*100\n",
        "  if z < 75:\n",
        "    print('Student will not be able to attend exam')\n",
        "    print('His attendance is:', z)\n",
        "  else:\n",
        "    print('Student will attend exam')\n",
        "    print('His attendance is:', z)\n",
        "  return attendance"
      ],
      "metadata": {
        "id": "__ctcQp3VZAh"
      },
      "execution_count": null,
      "outputs": []
    },
    {
      "cell_type": "code",
      "source": [
        "attendance(100,80)"
      ],
      "metadata": {
        "colab": {
          "base_uri": "https://localhost:8080/"
        },
        "id": "tX0yZm9pS_5n",
        "outputId": "1b6ed5d5-9fbe-4352-a0c9-229883e69ced"
      },
      "execution_count": null,
      "outputs": [
        {
          "output_type": "stream",
          "name": "stdout",
          "text": [
            "Total number of days working days:100\n",
            "Total number of days absent80\n",
            "Student will not be able to attend exam\n",
            "His attendance is: 19.999999999999996\n"
          ]
        },
        {
          "output_type": "execute_result",
          "data": {
            "text/plain": [
              "<function __main__.attendance(x, y)>"
            ]
          },
          "metadata": {},
          "execution_count": 8
        }
      ]
    },
    {
      "cell_type": "code",
      "source": [
        "#ask students to enter their % and then tell them their grade.\n",
        "per = int(input('Please enter your percentage:'))\n",
        "if per <=25:\n",
        "  print('Your grade is D')\n",
        "elif per > 25 and per <=45:\n",
        "  print('C grade')\n",
        "elif per >45 and per <=50:\n",
        "  print('B grade')\n",
        "elif per > 50 and per <= 60:\n",
        "  print ('B+')\n",
        "elif per > 60 and per <=75:\n",
        "  print (' A Grade')\n",
        "else:\n",
        "  print ('A+')"
      ],
      "metadata": {
        "colab": {
          "base_uri": "https://localhost:8080/"
        },
        "id": "xu5pKoxnTJUc",
        "outputId": "5c81992b-facc-4250-df1b-33f4e739c97e"
      },
      "execution_count": null,
      "outputs": [
        {
          "output_type": "stream",
          "name": "stdout",
          "text": [
            "Please enter your percentage:80\n",
            "A+\n"
          ]
        }
      ]
    },
    {
      "cell_type": "code",
      "source": [],
      "metadata": {
        "id": "2J4E6qhZV1LM"
      },
      "execution_count": null,
      "outputs": []
    }
  ]
}