{
  "nbformat": 4,
  "nbformat_minor": 0,
  "metadata": {
    "colab": {
      "provenance": [],
      "authorship_tag": "ABX9TyPBQKZr9UC5W75EeIucHQfG",
      "include_colab_link": true
    },
    "kernelspec": {
      "name": "python3",
      "display_name": "Python 3"
    },
    "language_info": {
      "name": "python"
    }
  },
  "cells": [
    {
      "cell_type": "markdown",
      "metadata": {
        "id": "view-in-github",
        "colab_type": "text"
      },
      "source": [
        "<a href=\"https://colab.research.google.com/github/neeklesh/Complete-Python-3-Bootcamp/blob/master/Programming.ipynb\" target=\"_parent\"><img src=\"https://colab.research.google.com/assets/colab-badge.svg\" alt=\"Open In Colab\"/></a>"
      ]
    },
    {
      "cell_type": "code",
      "execution_count": null,
      "metadata": {
        "id": "agTDyFgLPUKY"
      },
      "outputs": [],
      "source": [
        "#Program to write a functon that accepts two integrs and adds them\n",
        "def add_two(a,b):\n",
        "  sum = a+b\n",
        "  return(sum)\n"
      ]
    },
    {
      "cell_type": "code",
      "source": [
        "num1 = int(input('enter first number:'))\n",
        "num2 = int(input('enter second number:'))\n",
        "print(\"The sum of two number is:\",add_two(num1,num2))\n"
      ],
      "metadata": {
        "colab": {
          "base_uri": "https://localhost:8080/"
        },
        "id": "nFsV8owXQJps",
        "outputId": "0c432fc4-c2e0-40a6-fd33-40b465128d78"
      },
      "execution_count": null,
      "outputs": [
        {
          "output_type": "stream",
          "name": "stdout",
          "text": [
            "enter first number:3\n",
            "enter second number:5\n",
            "The sum of two number is: 8\n"
          ]
        }
      ]
    },
    {
      "cell_type": "code",
      "source": [
        "#Take length and width of the rectangle and print perimeter\n",
        "def find_perimeter(length, width):\n",
        "\tbreadth = length+width\n",
        "\tperimeter = length+width+breadth\n",
        "\treturn perimeter\n"
      ],
      "metadata": {
        "id": "WPmAeP5VcVGI"
      },
      "execution_count": null,
      "outputs": []
    },
    {
      "cell_type": "code",
      "source": [
        "\tnum1 = int(input('Lenght of the rectangle:'))\n",
        "\tnum2 = int(input('Lenght of the width:'))\n",
        "\tprint('the perimeter of rectangle is:', find_perimeter(num1,num2))"
      ],
      "metadata": {
        "colab": {
          "base_uri": "https://localhost:8080/"
        },
        "id": "aF1zPS0im2zp",
        "outputId": "47ebfc05-dbd1-40c2-98a1-b7f0dd0b8426"
      },
      "execution_count": null,
      "outputs": [
        {
          "output_type": "stream",
          "name": "stdout",
          "text": [
            "Lenght of the rectangle:5\n",
            "Lenght of the width:6\n",
            "the perimeter of rectangle is: 22\n"
          ]
        }
      ]
    },
    {
      "cell_type": "code",
      "source": [
        "def strint_txt(txt):\n",
        "\treturn txt\n",
        "num1 = int(input('Please enter number:'))\n",
        "print('The number is:', strint_txt(num1))"
      ],
      "metadata": {
        "colab": {
          "base_uri": "https://localhost:8080/"
        },
        "id": "AKI4njQGnAms",
        "outputId": "b81db32d-5950-4a36-f294-3baaa7684350"
      },
      "execution_count": null,
      "outputs": [
        {
          "output_type": "stream",
          "name": "stdout",
          "text": [
            "Please enter number:6\n",
            "The number is: 6\n"
          ]
        }
      ]
    },
    {
      "cell_type": "code",
      "source": [
        "#convert minute to seconds\n",
        "def min_Sec_convertor(x):\n",
        "  seconds = x*60\n",
        "  return seconds"
      ],
      "metadata": {
        "id": "Q-abI4F2o9AZ"
      },
      "execution_count": null,
      "outputs": []
    },
    {
      "cell_type": "code",
      "source": [
        "num1 = int(input('Enter minutes please:'))\n",
        "print('The seconds are:', min_Sec_convertor(num1))"
      ],
      "metadata": {
        "colab": {
          "base_uri": "https://localhost:8080/"
        },
        "id": "uEZuxglW4etL",
        "outputId": "186af122-7ada-482d-8658-0f2d5bde621c"
      },
      "execution_count": null,
      "outputs": [
        {
          "output_type": "stream",
          "name": "stdout",
          "text": [
            "Enter minutes please:60\n",
            "The seconds are: 3600\n"
          ]
        }
      ]
    },
    {
      "cell_type": "code",
      "source": [
        "#Program to increement the number\n",
        "def increment_1(num):\n",
        "  X = num +1\n",
        "  return X\n"
      ],
      "metadata": {
        "id": "76Mfz5vA4vav"
      },
      "execution_count": null,
      "outputs": []
    },
    {
      "cell_type": "code",
      "source": [
        "num = int(input('Please enter a number:'))\n",
        "print('Your additional number is:',increment_1(num))"
      ],
      "metadata": {
        "colab": {
          "base_uri": "https://localhost:8080/"
        },
        "id": "rTtB4vi7-Ta0",
        "outputId": "421d3200-001b-4d46-9d5f-51425839881f"
      },
      "execution_count": null,
      "outputs": [
        {
          "output_type": "stream",
          "name": "stdout",
          "text": [
            "Please enter a number:7\n",
            "Your additional number is: 8\n"
          ]
        }
      ]
    },
    {
      "cell_type": "code",
      "source": [
        "#Sum of angels of a Polygoan\n",
        "def total_poygon_angels(s):\n",
        "  angel = (n-2)* 180\n",
        "  return angel"
      ],
      "metadata": {
        "id": "5jv1CCvT-iGB"
      },
      "execution_count": null,
      "outputs": []
    },
    {
      "cell_type": "code",
      "source": [
        "n = int(input('Please enter the number of sides of the polygon:'))\n",
        "print('The total angel of polygon is:', total_poygon_angels(n))"
      ],
      "metadata": {
        "colab": {
          "base_uri": "https://localhost:8080/"
        },
        "id": "ByX2e2XnDQzj",
        "outputId": "a45ecc6b-2087-4003-ab85-8485426b0845"
      },
      "execution_count": null,
      "outputs": [
        {
          "output_type": "stream",
          "name": "stdout",
          "text": [
            "Please enter the number of sides of the polygon:4\n",
            "The total angel of polygon is: 360\n"
          ]
        }
      ]
    },
    {
      "cell_type": "code",
      "source": [
        "#Parity function\n",
        "def parity(num):\n",
        "  #convert the num to string\n",
        "  num_str = str(num)\n",
        "  #calculate the sum of\n",
        "  total_sum = sum(int(d) for d in num_str)\n",
        "  #check if both the num and sum have same parity\n",
        "  return (num % 2 ==0) == (total_sum % 2 == 0)\n"
      ],
      "metadata": {
        "id": "qsCsGIxtDy2w"
      },
      "execution_count": null,
      "outputs": []
    },
    {
      "cell_type": "code",
      "source": [
        "num = int(input('Please enter a number to check parity:'))\n",
        "print('The parity is:',parity(num))"
      ],
      "metadata": {
        "colab": {
          "base_uri": "https://localhost:8080/"
        },
        "id": "nT3sNoN_JOSR",
        "outputId": "5e53ade4-e414-4b1d-9e65-5b0738bbd964"
      },
      "execution_count": null,
      "outputs": [
        {
          "output_type": "stream",
          "name": "stdout",
          "text": [
            "Please enter a number to check parity:2\n",
            "The parity is: True\n"
          ]
        }
      ]
    },
    {
      "cell_type": "code",
      "source": [
        "def get_first_value(number_list):\n",
        "\treturn number_list[0]"
      ],
      "metadata": {
        "id": "_xdhckgeJg_q"
      },
      "execution_count": null,
      "outputs": []
    },
    {
      "cell_type": "code",
      "source": [
        "#next edge of a triangle\n",
        "def next_edge(s1,s2):\n",
        "  edge = s1+s2-1\n",
        "  return edge"
      ],
      "metadata": {
        "id": "naA5zTeVUibd"
      },
      "execution_count": 1,
      "outputs": []
    },
    {
      "cell_type": "code",
      "source": [
        "s1 = int(input('first side of a triangle:'))\n",
        "s2 = int(input('first side of a triangle:'))\n",
        "print('The next edge of a traingle is:',next_edge(s1,s2))"
      ],
      "metadata": {
        "colab": {
          "base_uri": "https://localhost:8080/"
        },
        "id": "ItuY2m9ACtUY",
        "outputId": "dd23b0a4-1e18-47fe-b8f5-f7ea98b70f28"
      },
      "execution_count": 3,
      "outputs": [
        {
          "output_type": "stream",
          "name": "stdout",
          "text": [
            "first side of a triangle:6\n",
            "first side of a triangle:7\n",
            "The next edge of a traingle is: 12\n"
          ]
        }
      ]
    },
    {
      "cell_type": "code",
      "source": [
        "#taking input as string from user\n",
        "name = input('Please enter your name:')\n",
        "print('Your name is:', name)"
      ],
      "metadata": {
        "colab": {
          "base_uri": "https://localhost:8080/"
        },
        "id": "rZcfZ9ClDF4I",
        "outputId": "42569012-2321-43d3-d7fc-15b8ce572813"
      },
      "execution_count": 4,
      "outputs": [
        {
          "output_type": "stream",
          "name": "stdout",
          "text": [
            "Please enter your name:Krishna\n",
            "Your name is: Krishna\n"
          ]
        }
      ]
    },
    {
      "cell_type": "code",
      "source": [
        "#Count the Letters and Digits\n",
        "Sent = input('Please enter a alphanumeric sentence:')\n",
        "alpha = 0\n",
        "for i in Sent:\n",
        "  if(i.isalpha()):\n",
        "    alpha = alpha+1\n",
        "print(\"Number of Digit is\", len(Sent)-alpha)\n",
        "print(\"Number of Alphabets is\", alpha)"
      ],
      "metadata": {
        "colab": {
          "base_uri": "https://localhost:8080/"
        },
        "id": "_kUvCOFWJ6Lx",
        "outputId": "83b3a1f0-5dd5-4a38-e95d-908fbd8d22ee"
      },
      "execution_count": 11,
      "outputs": [
        {
          "output_type": "stream",
          "name": "stdout",
          "text": [
            "Please enter a alphanumeric sentence:hello876\n",
            "Number of Digit is 3\n",
            "Number of Alphabets is 5\n"
          ]
        }
      ]
    },
    {
      "cell_type": "code",
      "source": [],
      "metadata": {
        "id": "PlvYsP3SLy7v"
      },
      "execution_count": null,
      "outputs": []
    }
  ]
}