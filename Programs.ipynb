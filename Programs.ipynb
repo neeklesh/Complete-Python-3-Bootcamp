{
  "nbformat": 4,
  "nbformat_minor": 0,
  "metadata": {
    "colab": {
      "provenance": [],
      "authorship_tag": "ABX9TyNdqFSKeDE+AzPbnAosLYfY",
      "include_colab_link": true
    },
    "kernelspec": {
      "name": "python3",
      "display_name": "Python 3"
    },
    "language_info": {
      "name": "python"
    }
  },
  "cells": [
    {
      "cell_type": "markdown",
      "metadata": {
        "id": "view-in-github",
        "colab_type": "text"
      },
      "source": [
        "<a href=\"https://colab.research.google.com/github/neeklesh/Complete-Python-3-Bootcamp/blob/master/Programs.ipynb\" target=\"_parent\"><img src=\"https://colab.research.google.com/assets/colab-badge.svg\" alt=\"Open In Colab\"/></a>"
      ]
    },
    {
      "cell_type": "code",
      "execution_count": 7,
      "metadata": {
        "id": "agTDyFgLPUKY"
      },
      "outputs": [],
      "source": [
        "#Program to write a functon that accepts two integrs and adds them\n",
        "def add_two(a,b):\n",
        "  sum = a+b\n",
        "  return(sum)\n",
        ""
      ]
    },
    {
      "cell_type": "code",
      "source": [
        "num1 = int(input('enter first number:'))\n",
        "num2 = int(input('enter second number:'))\n",
        "print(\"The sum of two number is:\",add_two(num1,num2))\n",
        ""
      ],
      "metadata": {
        "colab": {
          "base_uri": "https://localhost:8080/"
        },
        "id": "nFsV8owXQJps",
        "outputId": "0c432fc4-c2e0-40a6-fd33-40b465128d78"
      },
      "execution_count": 10,
      "outputs": [
        {
          "output_type": "stream",
          "name": "stdout",
          "text": [
            "enter first number:3\n",
            "enter second number:5\n",
            "The sum of two number is: 8\n"
          ]
        }
      ]
    },
    {
      "cell_type": "code",
      "source": [],
      "metadata": {
        "id": "WPmAeP5VcVGI"
      },
      "execution_count": null,
      "outputs": []
    }
  ]
}